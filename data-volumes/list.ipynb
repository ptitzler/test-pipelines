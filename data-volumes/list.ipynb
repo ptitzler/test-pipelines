{
 "cells": [
  {
   "cell_type": "markdown",
   "id": "4d9cbdc6-6b4a-4233-9e35-8e73d31ac761",
   "metadata": {},
   "source": [
    "list volume content"
   ]
  },
  {
   "cell_type": "code",
   "execution_count": null,
   "id": "b7b1f0f1-4d2d-4cc4-b78a-ee1560a8a02e",
   "metadata": {},
   "outputs": [],
   "source": [
    "import os\n",
    "from pathlib import Path"
   ]
  },
  {
   "cell_type": "code",
   "execution_count": null,
   "id": "eb399863-73ae-41e2-b3db-36caebc259cc",
   "metadata": {},
   "outputs": [],
   "source": [
    "mount_dir = os.environ.get(\"VOL_MOUNT_DIR\")"
   ]
  },
  {
   "cell_type": "code",
   "execution_count": null,
   "id": "aa763d7c-7a78-4032-8265-8974a224f471",
   "metadata": {},
   "outputs": [],
   "source": [
    "if mount_dir:\n",
    "    for obj in Path(mount_dir).glob(\"**/*\"):\n",
    "        print(obj)"
   ]
  }
 ],
 "metadata": {
  "kernelspec": {
   "display_name": "Python 3 (ipykernel)",
   "language": "python",
   "name": "python3"
  },
  "language_info": {
   "codemirror_mode": {
    "name": "ipython",
    "version": 3
   },
   "file_extension": ".py",
   "mimetype": "text/x-python",
   "name": "python",
   "nbconvert_exporter": "python",
   "pygments_lexer": "ipython3",
   "version": "3.7.12"
  }
 },
 "nbformat": 4,
 "nbformat_minor": 5
}
