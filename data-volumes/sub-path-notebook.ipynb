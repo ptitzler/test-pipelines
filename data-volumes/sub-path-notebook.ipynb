{
 "cells": [
  {
   "cell_type": "markdown",
   "id": "ff063968-af41-4384-b6c2-84f85c91a9a0",
   "metadata": {},
   "source": [
    "Create CSV file output_file.csv in VOL_MOUNT_DIR"
   ]
  },
  {
   "cell_type": "code",
   "execution_count": null,
   "id": "1da17496-8e98-456c-a8fc-6a7d3d7f119d",
   "metadata": {},
   "outputs": [],
   "source": [
    "import os\n",
    "from pathlib import Path"
   ]
  },
  {
   "cell_type": "code",
   "execution_count": null,
   "id": "70a9ce38-c594-4858-9cb1-a70ecf8df12e",
   "metadata": {},
   "outputs": [],
   "source": [
    "mount_dir = os.environ.get(\"VOL_MOUNT_DIR\")"
   ]
  },
  {
   "cell_type": "code",
   "execution_count": null,
   "id": "11f12460-d76f-42c6-9b8c-a5a3bb19ddc9",
   "metadata": {},
   "outputs": [],
   "source": [
    "with open(Path(mount_dir) / \"output_file.csv\", \"w\") as fh:\n",
    "    fh.write(\"C1,C2,C3\\n\")\n",
    "    fh.write(\"1,2,3\\n\")"
   ]
  }
 ],
 "metadata": {
  "kernelspec": {
   "display_name": "Python 3 (ipykernel)",
   "language": "python",
   "name": "python3"
  },
  "language_info": {
   "codemirror_mode": {
    "name": "ipython",
    "version": 3
   },
   "file_extension": ".py",
   "mimetype": "text/x-python",
   "name": "python",
   "nbconvert_exporter": "python",
   "pygments_lexer": "ipython3",
   "version": "3.7.12"
  }
 },
 "nbformat": 4,
 "nbformat_minor": 5
}
