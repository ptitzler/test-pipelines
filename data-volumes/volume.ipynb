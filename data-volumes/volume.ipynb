{
 "cells": [
  {
   "cell_type": "code",
   "execution_count": null,
   "id": "80c01291-e5c2-4506-9038-2f2fa48a3c15",
   "metadata": {},
   "outputs": [],
   "source": [
    "print('Hello volume')"
   ]
  },
  {
   "cell_type": "markdown",
   "id": "43fcca37-2d2f-4fe2-bbbf-1503109da6bf",
   "metadata": {},
   "source": [
    "should succeed"
   ]
  },
  {
   "cell_type": "code",
   "execution_count": null,
   "id": "73702763-592a-4f94-ad6a-941011a4d892",
   "metadata": {},
   "outputs": [],
   "source": [
    "! echo \"hello\" > /mnt/vol2/should.succeed"
   ]
  },
  {
   "cell_type": "markdown",
   "id": "e851a6f9-9168-4799-911c-9fd4f6c4792a",
   "metadata": {},
   "source": [
    "should fail"
   ]
  },
  {
   "cell_type": "code",
   "execution_count": null,
   "id": "12e1c943-02ba-44ad-9b32-428ac7191384",
   "metadata": {},
   "outputs": [],
   "source": [
    "! echo \"hello\" > /mnt/vol1/should.fail"
   ]
  }
 ],
 "metadata": {
  "kernelspec": {
   "display_name": "Python 3 (ipykernel)",
   "language": "python",
   "name": "python3"
  },
  "language_info": {
   "codemirror_mode": {
    "name": "ipython",
    "version": 3
   },
   "file_extension": ".py",
   "mimetype": "text/x-python",
   "name": "python",
   "nbconvert_exporter": "python",
   "pygments_lexer": "ipython3",
   "version": "3.7.12"
  }
 },
 "nbformat": 4,
 "nbformat_minor": 5
}
