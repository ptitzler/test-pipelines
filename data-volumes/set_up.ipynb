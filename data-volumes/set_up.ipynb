{
 "cells": [
  {
   "cell_type": "markdown",
   "id": "7c423391-ea1d-429c-8538-27a9d826dc23",
   "metadata": {},
   "source": [
    "wipe existing volume content"
   ]
  },
  {
   "cell_type": "code",
   "execution_count": null,
   "id": "32d3237f-226b-40e1-ac66-e874339fddda",
   "metadata": {},
   "outputs": [],
   "source": [
    "import os\n",
    "from pathlib import Path"
   ]
  },
  {
   "cell_type": "code",
   "execution_count": null,
   "id": "d04d879f-9230-4f29-83fb-5b6d4517b16e",
   "metadata": {},
   "outputs": [],
   "source": [
    "mount_dir = os.environ.get(\"VOL_MOUNT_DIR\")"
   ]
  },
  {
   "cell_type": "code",
   "execution_count": null,
   "id": "39955163-2bcd-4f53-8c95-acdb9618a0fc",
   "metadata": {},
   "outputs": [],
   "source": [
    "if mount_dir:\n",
    "    mount_dir_path = Path(mount_dir)\n",
    "    if mount_dir_path.is_dir():\n",
    "        dir_list = []\n",
    "        for obj in mount_dir_path.glob(\"**/*\"):\n",
    "            if obj.is_file():\n",
    "                obj.unlink()\n",
    "            else:\n",
    "                dir_list.append(obj)\n",
    "        for dir in dir_list:\n",
    "            dir.rmdir()\n",
    "        (mount_dir_path / \"test-dir-1\").mkdir()\n",
    "        (mount_dir_path / \"test-dir-2\").mkdir()"
   ]
  }
 ],
 "metadata": {
  "kernelspec": {
   "display_name": "Python 3 (ipykernel)",
   "language": "python",
   "name": "python3"
  },
  "language_info": {
   "codemirror_mode": {
    "name": "ipython",
    "version": 3
   },
   "file_extension": ".py",
   "mimetype": "text/x-python",
   "name": "python",
   "nbconvert_exporter": "python",
   "pygments_lexer": "ipython3",
   "version": "3.7.12"
  }
 },
 "nbformat": 4,
 "nbformat_minor": 5
}
